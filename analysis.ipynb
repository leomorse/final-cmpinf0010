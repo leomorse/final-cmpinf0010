{
 "cells": [
  {
   "cell_type": "code",
   "execution_count": 31,
   "id": "3e6c8a36-f085-4f79-afa0-b54a222f12e1",
   "metadata": {},
   "outputs": [
    {
     "name": "stdout",
     "output_type": "stream",
     "text": [
      "North Oakland      823.26\n",
      "Bluff              823.26\n",
      "West Oakland       823.26\n",
      "Terrace Village    823.26\n",
      "Middle Hill        823.26\n",
      "dtype: float64\n"
     ]
    }
   ],
   "source": [
    "import fpsnippets\n",
    "import pandas as pd\n",
    "\n",
    "# alex stuff\n",
    "\n",
    "airPollutionCSV = pd.read_csv(\"airPollution.csv\", index_col=\"_id\")\n",
    "\n",
    "query_mask = airPollutionCSV['CITY_NAME'] == \"PITTSBURGH\"\n",
    "\n",
    "airPollutionPGH = airPollutionCSV[query_mask]\n",
    "\n",
    "neighborhoodPollution = {}\n",
    "\n",
    "for index, row in airPollutionPGH.iterrows():\n",
    "    release_amount = row['TOTAL_RELEASE']\n",
    "    if not pd.isna(release_amount):\n",
    "        if isinstance(fpsnippets.zip_to_neighborhoods(row['ZIP_CODE']), list):\n",
    "            for neighborhood in fpsnippets.zip_to_neighborhoods(row['ZIP_CODE']):\n",
    "                if neighborhood in neighborhoodPollution:\n",
    "                    neighborhoodPollution[neighborhood] += release_amount\n",
    "                else:\n",
    "                    neighborhoodPollution[neighborhood] = release_amount\n",
    "\n",
    "nghpolSeries = pd.Series(neighborhoodPollution)\n",
    "nghpolSorted = nghpolSeries.sort_values(ascending=True)\n",
    "\n",
    "#The total amount (in pounds) of the toxic chemical released to air, water, land, and \n",
    "#underground injection wells during the calendar year (January 1 - December 31). \n",
    "#Release amounts may be reported as specific numbers or as ranges (RELEASE_RANGE_CODE)."
   ]
  },
  {
   "cell_type": "code",
   "execution_count": 33,
   "id": "8f293532-97aa-4e82-8045-cce9c4b73b41",
   "metadata": {},
   "outputs": [
    {
     "data": {
      "text/plain": [
       "North Oakland                   823.2600\n",
       "Bluff                           823.2600\n",
       "West Oakland                    823.2600\n",
       "Terrace Village                 823.2600\n",
       "Middle Hill                     823.2600\n",
       "Bedford Dwellings               823.2600\n",
       "Crawford-Roberts                823.2600\n",
       "Central Business District       823.2600\n",
       "Upper Hill                      823.2600\n",
       "Allentown                      1803.3037\n",
       "Arlington Heights              1803.3037\n",
       "Arlington                      1803.3037\n",
       "South Side Slopes              2626.5637\n",
       "South Side Flats               2626.5637\n",
       "Regent Square                  4725.3000\n",
       "Swisshelm Park                 4725.3000\n",
       "Chartiers City                31526.2000\n",
       "Esplen                        31526.2000\n",
       "Duquesne Heights             101100.0000\n",
       "Banksville                   101100.0000\n",
       "Ridgemont                    101100.0000\n",
       "West End                     101923.2600\n",
       "South Shore                  103726.5637\n",
       "Elliott                      132626.2000\n",
       "Sheraden                     132626.2000\n",
       "Point Breeze North           193109.0000\n",
       "Homewood South               193109.0000\n",
       "East Hills                   193109.0000\n",
       "Brookline                    325867.0000\n",
       "Carrick                      325867.0000\n",
       "Bon Air                      325867.0000\n",
       "Beltzhoover                  325867.0000\n",
       "Overbrook                    325867.0000\n",
       "Beechview                    426967.0000\n",
       "Mount Washington             428770.3037\n",
       "Friendship                   468985.0000\n",
       "Highland Park                468985.0000\n",
       "Bloomfield                   480685.0000\n",
       "East Carnegie                616158.5065\n",
       "Oakwood                      616158.5065\n",
       "dtype: float64"
      ]
     },
     "execution_count": 33,
     "metadata": {},
     "output_type": "execute_result"
    }
   ],
   "source": [
    "nghpolSorted.head(40)"
   ]
  },
  {
   "cell_type": "code",
   "execution_count": null,
   "id": "b668c956-9ab1-457a-9d2b-ace98fe75160",
   "metadata": {},
   "outputs": [],
   "source": []
  }
 ],
 "metadata": {
  "kernelspec": {
   "display_name": "Python 3 (ipykernel)",
   "language": "python",
   "name": "python3"
  },
  "language_info": {
   "codemirror_mode": {
    "name": "ipython",
    "version": 3
   },
   "file_extension": ".py",
   "mimetype": "text/x-python",
   "name": "python",
   "nbconvert_exporter": "python",
   "pygments_lexer": "ipython3",
   "version": "3.11.5"
  }
 },
 "nbformat": 4,
 "nbformat_minor": 5
}
