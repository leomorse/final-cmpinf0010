{
 "cells": [
  {
   "cell_type": "markdown",
   "id": "3ef8e51f-5628-446d-b52b-7f799aef8d09",
   "metadata": {},
   "source": [
    "# Pittsburgh's Best Neighborhood"
   ]
  },
  {
   "cell_type": "markdown",
   "id": "34f75947-2688-4794-bb11-d340eb897081",
   "metadata": {},
   "source": [
    "by Alex S, Leo M and Matt B"
   ]
  },
  {
   "cell_type": "markdown",
   "id": "6aff27a1-8b74-4a5f-a3d4-6a1866f0af8c",
   "metadata": {},
   "source": [
    "## Our Metric"
   ]
  },
  {
   "cell_type": "code",
   "execution_count": null,
   "id": "e1477864-71e1-4d57-adcb-c416d0c51e4f",
   "metadata": {},
   "outputs": [],
   "source": []
  }
 ],
 "metadata": {
  "kernelspec": {
   "display_name": "Python 3 (ipykernel)",
   "language": "python",
   "name": "python3"
  },
  "language_info": {
   "codemirror_mode": {
    "name": "ipython",
    "version": 3
   },
   "file_extension": ".py",
   "mimetype": "text/x-python",
   "name": "python",
   "nbconvert_exporter": "python",
   "pygments_lexer": "ipython3",
   "version": "3.11.5"
  }
 },
 "nbformat": 4,
 "nbformat_minor": 5
}
