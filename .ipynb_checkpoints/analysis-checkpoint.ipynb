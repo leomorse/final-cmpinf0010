{
 "cells": [
  {
   "cell_type": "code",
   "execution_count": 1,
   "id": "3e6c8a36-f085-4f79-afa0-b54a222f12e1",
   "metadata": {},
   "outputs": [],
   "source": [
    "import pandas as pd\n",
    "\n",
    "airPollutionCSV = pd.read_csv(\"airPollution.csv\", index_col=\"_id\")\n",
    "\n",
    "query_mask = airPollutionCSV['CITY_NAME'] == \"PITTSBURGH\"\n",
    "\n",
    "airPollutionPGH = airPollutionCSV[query_mask]\n",
    "\n",
    "neighborhoodPollution = {}\n",
    "\n",
    "for index, row in airPollutionPGH.iterrows():\n",
    "    pass"
   ]
  },
  {
   "cell_type": "code",
   "execution_count": null,
   "id": "6d030a21-a27f-4f55-abde-64e138297487",
   "metadata": {},
   "outputs": [],
   "source": []
  }
 ],
 "metadata": {
  "kernelspec": {
   "display_name": "Python 3 (ipykernel)",
   "language": "python",
   "name": "python3"
  },
  "language_info": {
   "codemirror_mode": {
    "name": "ipython",
    "version": 3
   },
   "file_extension": ".py",
   "mimetype": "text/x-python",
   "name": "python",
   "nbconvert_exporter": "python",
   "pygments_lexer": "ipython3",
   "version": "3.11.5"
  }
 },
 "nbformat": 4,
 "nbformat_minor": 5
}
