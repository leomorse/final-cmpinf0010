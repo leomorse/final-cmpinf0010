{
 "cells": [
  {
   "cell_type": "markdown",
   "id": "a8e42530-356d-4ac3-8895-555db3d84ec0",
   "metadata": {},
   "source": [
    "# Analysis of air pollution\n",
    "by Alex Sun\n",
    "\n",
    "link to data https://data.wprdc.org/dataset/toxic-release-inventory/resource/2750b8c8-246b-430f-b1e0-1aa96e00b013\n",
    "\n",
    "This data comes from Allegheny county and measures air pollution.\n",
    "\n",
    "Air pollution is bad for cat health. Simple as.\n",
    "\n",
    "The following cell will take a while to run; please be patient!"
   ]
  },
  {
   "cell_type": "code",
   "execution_count": null,
   "id": "3e6c8a36-f085-4f79-afa0-b54a222f12e1",
   "metadata": {},
   "outputs": [],
   "source": [
    "import fpsnippets\n",
    "import pandas as pd\n",
    "\n",
    "airPollutionCSV = pd.read_csv(\"airPollution.csv\", index_col=\"_id\")\n",
    "\n",
    "query_mask = airPollutionCSV['CITY_NAME'] == \"PITTSBURGH\"\n",
    "\n",
    "airPollutionPGH = airPollutionCSV[query_mask]\n",
    "\n",
    "neighborhoodPollution = {}\n",
    "\n",
    "for index, row in airPollutionPGH.iterrows():\n",
    "    release_amount = row['TOTAL_RELEASE']\n",
    "    if not pd.isna(release_amount):\n",
    "        if isinstance(fpsnippets.zip_to_neighborhoods(row['ZIP_CODE']), list):\n",
    "            if len(fpsnippets.zip_to_neighborhoods(row['ZIP_CODE'])) != 0:\n",
    "                adj_amount = release_amount / len(fpsnippets.zip_to_neighborhoods(row['ZIP_CODE']))\n",
    "                for neighborhood in fpsnippets.zip_to_neighborhoods(row['ZIP_CODE']):\n",
    "                    if neighborhood in neighborhoodPollution:\n",
    "                        neighborhoodPollution[neighborhood] += adj_amount\n",
    "                    else:\n",
    "                        neighborhoodPollution[neighborhood] = adj_amount\n",
    "\n",
    "nghpolSeries = pd.Series(neighborhoodPollution)\n",
    "nghpolSorted = nghpolSeries.sort_values(ascending=True)\n",
    "print(nghpolSorted.head())\n",
    "\n",
    "# The total amount (in pounds) of the toxic chemical released to air during the calendar year (January 1 - December 31). \n",
    "# Release amounts may be reported as specific numbers or as ranges (RELEASE_RANGE_CODE)."
   ]
  },
  {
   "cell_type": "markdown",
   "id": "3bc54e16-0aca-415e-a4be-79b14f4adfde",
   "metadata": {},
   "source": []
  },
  {
   "cell_type": "code",
   "execution_count": null,
   "id": "d3dee078-799a-4de4-bd64-4d6fc29b705b",
   "metadata": {},
   "outputs": [],
   "source": []
  }
 ],
 "metadata": {
  "kernelspec": {
   "display_name": "Python 3 (ipykernel)",
   "language": "python",
   "name": "python3"
  },
  "language_info": {
   "codemirror_mode": {
    "name": "ipython",
    "version": 3
   },
   "file_extension": ".py",
   "mimetype": "text/x-python",
   "name": "python",
   "nbconvert_exporter": "python",
   "pygments_lexer": "ipython3",
   "version": "3.11.5"
  }
 },
 "nbformat": 4,
 "nbformat_minor": 5
}
